{
 "cells": [
  {
   "cell_type": "code",
   "execution_count": 1,
   "id": "macro-measurement",
   "metadata": {},
   "outputs": [],
   "source": [
    "from   category_encoders       import *\n",
    "import numpy as np\n",
    "import pandas as pd\n",
    "from sklearn.decomposition import PCA\n",
    "from   sklearn.compose         import *\n",
    "from   sklearn.experimental    import enable_iterative_imputer\n",
    "from   sklearn.impute          import *\n",
    "from   sklearn.linear_model    import LogisticRegression\n",
    "from   sklearn.metrics         import classification_report, accuracy_score, f1_score\n",
    "from   sklearn.model_selection import train_test_split\n",
    "from   sklearn.pipeline        import Pipeline\n",
    "from sklearn.ensemble        import ExtraTreesClassifier, RandomForestClassifier\n",
    "from sklearn.model_selection import RandomizedSearchCV\n",
    "from   sklearn.preprocessing   import *"
   ]
  },
  {
   "cell_type": "markdown",
   "id": "pleased-thickness",
   "metadata": {},
   "source": [
    "## Research Question"
   ]
  },
  {
   "cell_type": "markdown",
   "id": "olympic-looking",
   "metadata": {},
   "source": [
    "Vegas releases betting odds in order to attract bettors to bet on the outcome of a certain sports event. However there is a fine line between attracting people to actually bet on the games so that external bettors will lose and the organization in Vegas makes the most money out of lost bets. In this project, I will be introducing several models and picking the best model that this certain organization in Vegas can use to figure out which team will likely win a sports match and so entice bettors who bet that the other team would win, and thus win all of their money. "
   ]
  },
  {
   "cell_type": "markdown",
   "id": "cross-explanation",
   "metadata": {},
   "source": [
    "In this project, we will be using data from the National Basketball Association (NBA) to figure out which team will win a given basketball matchup"
   ]
  },
  {
   "cell_type": "code",
   "execution_count": 2,
   "id": "processed-acquisition",
   "metadata": {},
   "outputs": [
    {
     "data": {
      "text/html": [
       "<div>\n",
       "<style scoped>\n",
       "    .dataframe tbody tr th:only-of-type {\n",
       "        vertical-align: middle;\n",
       "    }\n",
       "\n",
       "    .dataframe tbody tr th {\n",
       "        vertical-align: top;\n",
       "    }\n",
       "\n",
       "    .dataframe thead th {\n",
       "        text-align: right;\n",
       "    }\n",
       "</style>\n",
       "<table border=\"1\" class=\"dataframe\">\n",
       "  <thead>\n",
       "    <tr style=\"text-align: right;\">\n",
       "      <th></th>\n",
       "      <th>GAME_DATE_EST</th>\n",
       "      <th>GAME_ID</th>\n",
       "      <th>GAME_STATUS_TEXT</th>\n",
       "      <th>HOME_TEAM_ID</th>\n",
       "      <th>VISITOR_TEAM_ID</th>\n",
       "      <th>SEASON</th>\n",
       "      <th>TEAM_ID_home</th>\n",
       "      <th>PTS_home</th>\n",
       "      <th>FG_PCT_home</th>\n",
       "      <th>FT_PCT_home</th>\n",
       "      <th>...</th>\n",
       "      <th>PTS_away</th>\n",
       "      <th>FG_PCT_away</th>\n",
       "      <th>FT_PCT_away</th>\n",
       "      <th>FG3_PCT_away</th>\n",
       "      <th>AST_away</th>\n",
       "      <th>REB_away</th>\n",
       "      <th>HOME_TEAM_WINS</th>\n",
       "      <th>Year</th>\n",
       "      <th>HOME_TEAM</th>\n",
       "      <th>VISITOR_TEAM</th>\n",
       "    </tr>\n",
       "  </thead>\n",
       "  <tbody>\n",
       "    <tr>\n",
       "      <th>0</th>\n",
       "      <td>2020-12-19</td>\n",
       "      <td>12000047</td>\n",
       "      <td>Final</td>\n",
       "      <td>1610612753</td>\n",
       "      <td>1610612766</td>\n",
       "      <td>2020</td>\n",
       "      <td>1610612753</td>\n",
       "      <td>120.0</td>\n",
       "      <td>0.433</td>\n",
       "      <td>0.792</td>\n",
       "      <td>...</td>\n",
       "      <td>117.0</td>\n",
       "      <td>0.444</td>\n",
       "      <td>0.864</td>\n",
       "      <td>0.439</td>\n",
       "      <td>21.0</td>\n",
       "      <td>52.0</td>\n",
       "      <td>1</td>\n",
       "      <td>2020</td>\n",
       "      <td>Magic</td>\n",
       "      <td>Hornets</td>\n",
       "    </tr>\n",
       "    <tr>\n",
       "      <th>1</th>\n",
       "      <td>2020-12-17</td>\n",
       "      <td>12000032</td>\n",
       "      <td>Final</td>\n",
       "      <td>1610612753</td>\n",
       "      <td>1610612766</td>\n",
       "      <td>2020</td>\n",
       "      <td>1610612753</td>\n",
       "      <td>115.0</td>\n",
       "      <td>0.474</td>\n",
       "      <td>0.917</td>\n",
       "      <td>...</td>\n",
       "      <td>123.0</td>\n",
       "      <td>0.475</td>\n",
       "      <td>0.900</td>\n",
       "      <td>0.439</td>\n",
       "      <td>32.0</td>\n",
       "      <td>43.0</td>\n",
       "      <td>0</td>\n",
       "      <td>2020</td>\n",
       "      <td>Magic</td>\n",
       "      <td>Hornets</td>\n",
       "    </tr>\n",
       "    <tr>\n",
       "      <th>2</th>\n",
       "      <td>2019-02-14</td>\n",
       "      <td>21800864</td>\n",
       "      <td>Final</td>\n",
       "      <td>1610612753</td>\n",
       "      <td>1610612766</td>\n",
       "      <td>2018</td>\n",
       "      <td>1610612753</td>\n",
       "      <td>127.0</td>\n",
       "      <td>0.522</td>\n",
       "      <td>0.778</td>\n",
       "      <td>...</td>\n",
       "      <td>89.0</td>\n",
       "      <td>0.351</td>\n",
       "      <td>0.731</td>\n",
       "      <td>0.129</td>\n",
       "      <td>18.0</td>\n",
       "      <td>45.0</td>\n",
       "      <td>1</td>\n",
       "      <td>2019</td>\n",
       "      <td>Magic</td>\n",
       "      <td>Hornets</td>\n",
       "    </tr>\n",
       "    <tr>\n",
       "      <th>3</th>\n",
       "      <td>2020-01-30</td>\n",
       "      <td>21900715</td>\n",
       "      <td>Final</td>\n",
       "      <td>1610612764</td>\n",
       "      <td>1610612766</td>\n",
       "      <td>2019</td>\n",
       "      <td>1610612764</td>\n",
       "      <td>121.0</td>\n",
       "      <td>0.477</td>\n",
       "      <td>0.926</td>\n",
       "      <td>...</td>\n",
       "      <td>107.0</td>\n",
       "      <td>0.434</td>\n",
       "      <td>0.632</td>\n",
       "      <td>0.300</td>\n",
       "      <td>32.0</td>\n",
       "      <td>38.0</td>\n",
       "      <td>1</td>\n",
       "      <td>2020</td>\n",
       "      <td>Wizards</td>\n",
       "      <td>Hornets</td>\n",
       "    </tr>\n",
       "    <tr>\n",
       "      <th>4</th>\n",
       "      <td>2019-11-22</td>\n",
       "      <td>21900216</td>\n",
       "      <td>Final</td>\n",
       "      <td>1610612764</td>\n",
       "      <td>1610612766</td>\n",
       "      <td>2019</td>\n",
       "      <td>1610612764</td>\n",
       "      <td>125.0</td>\n",
       "      <td>0.527</td>\n",
       "      <td>0.750</td>\n",
       "      <td>...</td>\n",
       "      <td>118.0</td>\n",
       "      <td>0.516</td>\n",
       "      <td>1.000</td>\n",
       "      <td>0.412</td>\n",
       "      <td>24.0</td>\n",
       "      <td>44.0</td>\n",
       "      <td>1</td>\n",
       "      <td>2019</td>\n",
       "      <td>Wizards</td>\n",
       "      <td>Hornets</td>\n",
       "    </tr>\n",
       "  </tbody>\n",
       "</table>\n",
       "<p>5 rows × 24 columns</p>\n",
       "</div>"
      ],
      "text/plain": [
       "  GAME_DATE_EST   GAME_ID GAME_STATUS_TEXT  HOME_TEAM_ID  VISITOR_TEAM_ID  \\\n",
       "0    2020-12-19  12000047            Final    1610612753       1610612766   \n",
       "1    2020-12-17  12000032            Final    1610612753       1610612766   \n",
       "2    2019-02-14  21800864            Final    1610612753       1610612766   \n",
       "3    2020-01-30  21900715            Final    1610612764       1610612766   \n",
       "4    2019-11-22  21900216            Final    1610612764       1610612766   \n",
       "\n",
       "   SEASON  TEAM_ID_home  PTS_home  FG_PCT_home  FT_PCT_home  ...  PTS_away  \\\n",
       "0    2020    1610612753     120.0        0.433        0.792  ...     117.0   \n",
       "1    2020    1610612753     115.0        0.474        0.917  ...     123.0   \n",
       "2    2018    1610612753     127.0        0.522        0.778  ...      89.0   \n",
       "3    2019    1610612764     121.0        0.477        0.926  ...     107.0   \n",
       "4    2019    1610612764     125.0        0.527        0.750  ...     118.0   \n",
       "\n",
       "   FG_PCT_away  FT_PCT_away  FG3_PCT_away  AST_away  REB_away  HOME_TEAM_WINS  \\\n",
       "0        0.444        0.864         0.439      21.0      52.0               1   \n",
       "1        0.475        0.900         0.439      32.0      43.0               0   \n",
       "2        0.351        0.731         0.129      18.0      45.0               1   \n",
       "3        0.434        0.632         0.300      32.0      38.0               1   \n",
       "4        0.516        1.000         0.412      24.0      44.0               1   \n",
       "\n",
       "   Year  HOME_TEAM  VISITOR_TEAM  \n",
       "0  2020      Magic       Hornets  \n",
       "1  2020      Magic       Hornets  \n",
       "2  2019      Magic       Hornets  \n",
       "3  2020    Wizards       Hornets  \n",
       "4  2019    Wizards       Hornets  \n",
       "\n",
       "[5 rows x 24 columns]"
      ]
     },
     "execution_count": 2,
     "metadata": {},
     "output_type": "execute_result"
    }
   ],
   "source": [
    "# Bringing in NBA data since 2018\n",
    "nba_data = pd.read_csv('nba_data.csv', )\n",
    "nba_data = nba_data.drop(nba_data.columns[0], axis=1)\n",
    "nba_data.head()"
   ]
  },
  {
   "cell_type": "markdown",
   "id": "damaged-steering",
   "metadata": {},
   "source": [
    "## PCA Visualization"
   ]
  },
  {
   "cell_type": "markdown",
   "id": "vital-seating",
   "metadata": {},
   "source": [
    "This section is important for the presentation of the model to show what the model thinks are the best teams in the league since 2018 based on the given stats described below. These are all based on offensive team stats. "
   ]
  },
  {
   "cell_type": "markdown",
   "id": "embedded-bundle",
   "metadata": {},
   "source": [
    "No interpretability on what the PCA values represent (flaw in PCA approach) but just use the graphical approach to show the best teams (according to who is at the most upper right on each of the plots). "
   ]
  },
  {
   "cell_type": "markdown",
   "id": "capital-newport",
   "metadata": {},
   "source": [
    "### First find the Best Teams when They Play in Their Home Court"
   ]
  },
  {
   "cell_type": "code",
   "execution_count": 3,
   "id": "adverse-upper",
   "metadata": {},
   "outputs": [],
   "source": [
    "# Have five features for each team\n",
    "result_home = nba_data[['HOME_TEAM', 'FG_PCT_home', 'FT_PCT_home', \"FG3_PCT_home\", \n",
    "                     \"AST_home\", \"REB_home\"]]\n",
    "result_home = result_home.groupby([\"HOME_TEAM\"]).mean()"
   ]
  },
  {
   "cell_type": "code",
   "execution_count": 4,
   "id": "minor-words",
   "metadata": {},
   "outputs": [],
   "source": [
    "# reduce the dimension of the number of features from 5 to 2\n",
    "pipe = Pipeline([('scaler', StandardScaler()), \n",
    "                    ('pca', PCA(n_components=2))]) # to graph on 2d axis\n",
    "pipe.fit(result_home)\n",
    "res = pipe.transform(result_home)\n",
    "result_home['pca_1'] = res[:, 0]\n",
    "result_home['pca_2'] = res[:, 1]"
   ]
  },
  {
   "cell_type": "code",
   "execution_count": 26,
   "id": "promotional-appreciation",
   "metadata": {},
   "outputs": [
    {
     "data": {
      "image/png": "[encoded data removed]",
      "text/plain": [
       "<Figure size 1080x1080 with 1 Axes>"
      ]
     },
     "metadata": {
      "needs_background": "light"
     },
     "output_type": "display_data"
    }
   ],
   "source": [
    "import matplotlib.pyplot as plt\n",
    "fig, ax = plt.subplots(figsize=(15,15))\n",
    "ax.set_title(\"Best Offensive Teams at Home since 2018\")\n",
    "ax.set_ylabel(\"Second PCA Value\")\n",
    "ax.set_xlabel(\"First PCA Value\")\n",
    "ax.scatter(result_home['pca_1'], result_home['pca_2'])\n",
    "for team in result_home.index:\n",
    "\n",
    "    label = team\n",
    "    x = result_home.loc[team]['pca_1']\n",
    "    y = result_home.loc[team]['pca_2']\n",
    "\n",
    "    plt.annotate(label, # this is the text\n",
    "                 (x,y), # this is the point to label\n",
    "                 textcoords=\"offset points\", # how to position the text\n",
    "                 xytext=(0,10), # distance from text to points (x,y)\n",
    "                 ha='center') \n",
    "plt.savefig(\"home_team_graph.png\")"
   ]
  },
  {
   "cell_type": "markdown",
   "id": "vertical-major",
   "metadata": {},
   "source": [
    "### First find the Best Teams when They Play in an Opposing Team's Court"
   ]
  },
  {
   "cell_type": "code",
   "execution_count": 6,
   "id": "according-screening",
   "metadata": {},
   "outputs": [],
   "source": [
    "result_visitor = nba_data[['VISITOR_TEAM', \"FG_PCT_away\", \"FT_PCT_away\", \"FG3_PCT_away\", \n",
    "                      'AST_away','REB_away']]\n",
    "result_visitor = result_visitor.groupby([\"VISITOR_TEAM\"]).mean()"
   ]
  },
  {
   "cell_type": "code",
   "execution_count": 28,
   "id": "perfect-blind",
   "metadata": {},
   "outputs": [
    {
     "data": {
      "image/png": "[encoded data removed]",
      "text/plain": [
       "<Figure size 1080x1080 with 1 Axes>"
      ]
     },
     "metadata": {
      "needs_background": "light"
     },
     "output_type": "display_data"
    }
   ],
   "source": [
    "pipe = Pipeline([('scaler', StandardScaler()), \n",
    "                    ('pca', PCA(n_components=2))])\n",
    "pipe.fit(result_visitor)\n",
    "res = pipe.transform(result_visitor)\n",
    "result_visitor['pca_1'] = res[:, 0]\n",
    "result_visitor['pca_2'] = res[:, 1]\n",
    "\n",
    "import matplotlib.pyplot as plt\n",
    "fig, ax = plt.subplots(figsize=(15,15))\n",
    "ax.set_title(\"Best Offensive Teams away from Home since 2018\")\n",
    "ax.set_ylabel(\"Second PCA Value\")\n",
    "ax.set_xlabel(\"First PCA Value\")\n",
    "ax.scatter(result_visitor['pca_1'], result_visitor['pca_2'])\n",
    "for team in result_visitor.index:\n",
    "\n",
    "    label = team\n",
    "    x = result_visitor.loc[team]['pca_1']\n",
    "    y = result_visitor.loc[team]['pca_2']\n",
    "\n",
    "    plt.annotate(label, # this is the text\n",
    "                 (x,y), # this is the point to label\n",
    "                 textcoords=\"offset points\", # how to position the text\n",
    "                 xytext=(0,10), # distance from text to points (x,y)\n",
    "                 ha='center') \n",
    "plt.savefig(\"away_team.png\")"
   ]
  },
  {
   "cell_type": "markdown",
   "id": "productive-collectible",
   "metadata": {},
   "source": [
    "## Fit Sci-kit Learn Models"
   ]
  },
  {
   "cell_type": "markdown",
   "id": "recreational-pathology",
   "metadata": {},
   "source": [
    "The analytic goal here is to perform classification. In the context of this problem we will be predicting which team will win in a given game given the stats they had for that particular game. When we do inference we will be using the average of the previous games to predict the next game as I will show towards the end of the document. But for now, we will look at in game stats to predict the outcome of games. "
   ]
  },
  {
   "cell_type": "markdown",
   "id": "controlling-probe",
   "metadata": {},
   "source": [
    "I will be using a sci-kit learn pipeline to predict whether a home team or away team wins"
   ]
  },
  {
   "cell_type": "code",
   "execution_count": 8,
   "id": "headed-opportunity",
   "metadata": {},
   "outputs": [],
   "source": [
    "X = nba_data[['HOME_TEAM_ID', 'VISITOR_TEAM_ID', 'SEASON', 'FG_PCT_home', 'FT_PCT_home', \"FG3_PCT_home\", \n",
    "                     \"AST_home\", \"REB_home\", \"FG_PCT_away\", \"FT_PCT_away\", \"FG3_PCT_away\", \n",
    "                      'AST_away','REB_away']]\n",
    "y = nba_data[['HOME_TEAM_WINS']].values\n",
    "y = y.reshape((len(y), ))"
   ]
  },
  {
   "cell_type": "code",
   "execution_count": 9,
   "id": "crude-improvement",
   "metadata": {},
   "outputs": [],
   "source": [
    "X_train, X_valid, y_train, y_valid = train_test_split(X, y)"
   ]
  },
  {
   "cell_type": "markdown",
   "id": "surprised-curve",
   "metadata": {},
   "source": [
    "For this model, the features are each home and away team as well as stats for each team during that particular game they played. The features are described below: \n",
    "\n",
    "- HOME_TEAM_ID --> numerical representation of the home team (team playing in their home stadium)\n",
    "- VISITOR_TEAM_ID --> numerical representation of the away team (team playing in their away stadium)\n",
    "- SEASON --> the season (2018, 2019, 2020) that the game is being played in\n",
    "- FG_PCT_home --> the home team's field goal percentage (percentage of shots taken that went in the basket)\n",
    "- FT_PCT_home --> the home team's free throw percentage (percentage of free throws taken that went in the basket)\n",
    "- FG3_PCT_home --> the home team's 3 point percentage (percentage of shots beyond the three point line taken that went in the basket)\n",
    "- AST_home --> the amount of assists the home team recorded\n",
    "- REB_home --> the amount of rebounds the home team recorded\n",
    "- FG_PCT_away --> the away team's field goal percentage (percentage of shots taken that went in the basket)\n",
    "- FT_PCT_away --> the away team's free throw percentage (percentage of free throws taken that went in the basket)\n",
    "- FG3_PCT_away --> the away team's 3 point percentage (percentage of shots beyond the three point line taken that went in the basket)\n",
    "- AST_away --> the amount of assists the away team recorded\n",
    "- REB_away --> the amount of rebounds the away team recorded"
   ]
  },
  {
   "cell_type": "markdown",
   "id": "scientific-console",
   "metadata": {},
   "source": [
    "### Logistic Regression"
   ]
  },
  {
   "cell_type": "markdown",
   "id": "modular-brief",
   "metadata": {},
   "source": [
    "For the logistic regression model, make sure to standardize the data so that one column is not weighed too much more than the other. Also set them to the same distribution so that the model can easily compare two values from different columns"
   ]
  },
  {
   "cell_type": "markdown",
   "id": "incorrect-cattle",
   "metadata": {},
   "source": [
    "Deal with missing data by using a simple imputer to impute the median of other column values as so to not affect the total distribution. "
   ]
  },
  {
   "cell_type": "code",
   "execution_count": 10,
   "id": "stock-acrylic",
   "metadata": {},
   "outputs": [],
   "source": [
    "pipe = Pipeline([('scaler', StandardScaler()), \n",
    "                 ('imputer', SimpleImputer(strategy='median', add_indicator=True)), \n",
    "                 ('preprocessing', QuantileTransformer(output_distribution='uniform')), # same distn\n",
    "                 ('logreg', LogisticRegression())])"
   ]
  },
  {
   "cell_type": "code",
   "execution_count": 11,
   "id": "entitled-schema",
   "metadata": {},
   "outputs": [],
   "source": [
    "# Find best parameters for Logistic Regression\n",
    "penalty = ['l1', 'l2', 'elasticnet', 'none']\n",
    "solver = ['newton-cg', 'lbfgs', 'liblinear', 'sag', 'saga']\n",
    "C = np.logspace(0, 4, 10)\n",
    "class_weight = [None, 'balanced']\n",
    "\n",
    "rsc = RandomizedSearchCV(estimator=pipe, \n",
    "                        param_distributions={'logreg__penalty': penalty, \n",
    "                                             'logreg__solver': solver, \n",
    "                                             'logreg__C': C, \n",
    "                                             'logreg__class_weight': class_weight}, \n",
    "                        scoring='balanced_accuracy', # use as quick baseline to compare\n",
    "                        n_iter=15, cv=5, n_jobs=-1, verbose=False)\n",
    "\n",
    "result=rsc.fit(X, y)\n",
    "# print(\"Best HyperParameters for Logistic Regression: \")\n",
    "# print(result.best_params_)"
   ]
  },
  {
   "cell_type": "markdown",
   "id": "composite-lesbian",
   "metadata": {},
   "source": [
    "Best Hyperparameters for Logistic Regression: \n",
    "\n",
    "- solver = 'liblinear'\n",
    "- penalty = 'l2'\n",
    "- class_weight = 'balanced'\n",
    "- C = 2.78\n",
    "\n",
    "This is randomized so the best hyperparameters will change at every run. \n",
    "However, randomized search is very efficient. "
   ]
  },
  {
   "cell_type": "code",
   "execution_count": 12,
   "id": "balanced-sudan",
   "metadata": {},
   "outputs": [],
   "source": [
    "\n",
    "pipe = Pipeline([('scaler', StandardScaler()), \n",
    "                 ('imputer', SimpleImputer(strategy='median', add_indicator=True)), \n",
    "                 ('preprocessing', QuantileTransformer(output_distribution='uniform')),  # same distn\n",
    "                 ('logreg', LogisticRegression(solver='liblinear', penalty='l2', \n",
    "                                               class_weight='balanced', \n",
    "                                               C = 2.78))])\n",
    "pipe.fit(X_train, y_train)\n",
    "y_pred = pipe.predict(X_valid)"
   ]
  },
  {
   "cell_type": "markdown",
   "id": "ideal-variation",
   "metadata": {},
   "source": [
    "### Random Forests"
   ]
  },
  {
   "cell_type": "markdown",
   "id": "rotary-pitch",
   "metadata": {},
   "source": [
    "Do not need a standard scaler for random forests the nature of the algorithm doesn't have issues with unscaled data. "
   ]
  },
  {
   "cell_type": "code",
   "execution_count": 13,
   "id": "prerequisite-incentive",
   "metadata": {},
   "outputs": [],
   "source": [
    "pipe_rf = Pipeline([('imputer', SimpleImputer(strategy='median', add_indicator=True)), \n",
    "                    ('preprocessing', QuantileTransformer(output_distribution='uniform')),\n",
    "                    ('rf', RandomForestClassifier())])\n",
    "\n",
    "# Do Hyperparameter Tuning using RandomizedSearchCV\n",
    "#Find best parameters for Random Forests\n",
    "n_estimators = np.arange(10)\n",
    "criterion = ['gini', 'entropy']\n",
    "max_depth = [None, 5, 10, 15, 20, 25, 30]\n",
    "min_samples_split = np.arange(2, 40)\n",
    "min_samples_leaf = np.arange(1, 30)\n",
    "max_features = ['auto', 'sqrt', 'log2']\n",
    "max_samples = [None, 0.25, 0.33, 0.5, 0.67, 0.8]\n",
    "class_weight = ['balanced', 'balanced_subsample']\n",
    "\n",
    "rsc_rf = RandomizedSearchCV(estimator=pipe_rf, \n",
    "                        param_distributions={'rf__n_estimators': n_estimators, \n",
    "                                             'rf__criterion': criterion,\n",
    "                                             'rf__max_depth': max_depth,\n",
    "                                             'rf__min_samples_split': min_samples_split, \n",
    "                                             'rf__min_samples_leaf': min_samples_leaf, \n",
    "                                             'rf__max_features': max_features, \n",
    "                                             'rf__max_samples': max_samples, \n",
    "                                             'rf__class_weight': class_weight},\n",
    "                        scoring='balanced_accuracy', \n",
    "                        n_iter=15, cv=5, n_jobs=-1, verbose=False)\n",
    "\n",
    "\n",
    "result=rsc_rf.fit(X_train, y_train)\n",
    "#print(result.best_params_)"
   ]
  },
  {
   "cell_type": "markdown",
   "id": "going-restriction",
   "metadata": {},
   "source": [
    "Best Hyperparameters: \n",
    "\n",
    "- n_estimators = 6\n",
    "- min_samples_split = 8\n",
    "- min_samples_leaf = 11\n",
    "- max_samples = None\n",
    "- max_features = 'sqrt'\n",
    "- max_depth = None\n",
    "- criterion = gini\n",
    "- class_weight = balanced"
   ]
  },
  {
   "cell_type": "code",
   "execution_count": 14,
   "id": "surrounded-count",
   "metadata": {},
   "outputs": [],
   "source": [
    "pipe_rf = Pipeline([('imputer', SimpleImputer(strategy='median', add_indicator=True)), \n",
    "                    ('preprocessing', QuantileTransformer(output_distribution='uniform')), \n",
    "                    ('rf', RandomForestClassifier(n_estimators=5, min_samples_split=8,\n",
    "                                                  max_depth=None, criterion='gini', \n",
    "                                                  max_features='sqrt',\n",
    "                                                  min_samples_leaf=24, \n",
    "                                                  max_samples = None, \n",
    "                                                  class_weight = 'balanced'))])\n",
    "pipe_rf.fit(X_train, y_train)\n",
    "y_pred_rf = pipe_rf.predict(X_valid)"
   ]
  },
  {
   "cell_type": "markdown",
   "id": "impressive-collect",
   "metadata": {},
   "source": [
    "## Evaluation Metric"
   ]
  },
  {
   "cell_type": "markdown",
   "id": "numerical-dublin",
   "metadata": {},
   "source": [
    "### Interpret Precision and Recall"
   ]
  },
  {
   "cell_type": "markdown",
   "id": "unlimited-pepper",
   "metadata": {},
   "source": [
    "Precision for 0 --> Out of all the times the model predicted that the visiting team would win, the chance that the visiting team actually won\n",
    "\n",
    "Precision for 1 --> Out of all the times the model predicted that the home team would win, the chance that the home team actually won\n",
    "\n",
    "Recall for 0 --> Out of all the times that the visiting team actually won, the chance that the model predicted that the visiting team won\n",
    "\n",
    "Recall for 1 --> Out of all the times that the home team actually won, the chance that the model predicted that the home team won"
   ]
  },
  {
   "cell_type": "markdown",
   "id": "bibliographic-information",
   "metadata": {},
   "source": [
    "### Logistic Regression Results"
   ]
  },
  {
   "cell_type": "code",
   "execution_count": 29,
   "id": "ideal-salem",
   "metadata": {},
   "outputs": [
    {
     "data": {
      "text/plain": [
       "0.825"
      ]
     },
     "execution_count": 29,
     "metadata": {},
     "output_type": "execute_result"
    }
   ],
   "source": [
    "round(accuracy_score(y_pred, y_valid), 3)"
   ]
  },
  {
   "cell_type": "code",
   "execution_count": 16,
   "id": "shaped-surname",
   "metadata": {},
   "outputs": [
    {
     "name": "stdout",
     "output_type": "stream",
     "text": [
      "Logistic Regression\n",
      "              precision    recall  f1-score   support\n",
      "\n",
      "           0       0.86      0.77      0.81       253\n",
      "           1       0.80      0.88      0.84       261\n",
      "\n",
      "    accuracy                           0.82       514\n",
      "   macro avg       0.83      0.82      0.82       514\n",
      "weighted avg       0.83      0.82      0.82       514\n",
      "\n"
     ]
    }
   ],
   "source": [
    "print(\"Logistic Regression\")\n",
    "print(classification_report(y_pred, y_valid))"
   ]
  },
  {
   "cell_type": "markdown",
   "id": "favorite-marking",
   "metadata": {},
   "source": [
    "Using Logistic regression, the precisions and the recalls were very different for the home team winning (target of 1) versus when the away team wins (target of 0). Therefore as a bettor in Vegas, I would be much more comfortable if the model predicted that the away team wins since it predicts correctly that the away team wins 86% of the time while only 80% for the home team. "
   ]
  },
  {
   "cell_type": "markdown",
   "id": "consolidated-robert",
   "metadata": {},
   "source": [
    "However, out of all the home teams that actually won, the chance that the model predicted the home team would win was better than that of the away team. In this sense, the model is good at picking up the correct predictions out of a set of predictions. "
   ]
  },
  {
   "cell_type": "markdown",
   "id": "solid-pregnancy",
   "metadata": {},
   "source": [
    "### Random Forests Results"
   ]
  },
  {
   "cell_type": "code",
   "execution_count": 30,
   "id": "coupled-security",
   "metadata": {},
   "outputs": [
    {
     "data": {
      "text/plain": [
       "0.776"
      ]
     },
     "execution_count": 30,
     "metadata": {},
     "output_type": "execute_result"
    }
   ],
   "source": [
    "round(accuracy_score(y_pred_rf, y_valid), 3)"
   ]
  },
  {
   "cell_type": "code",
   "execution_count": 18,
   "id": "robust-rendering",
   "metadata": {},
   "outputs": [
    {
     "name": "stdout",
     "output_type": "stream",
     "text": [
      "Random Forest Classification\n",
      "              precision    recall  f1-score   support\n",
      "\n",
      "           0       0.82      0.72      0.76       260\n",
      "           1       0.74      0.84      0.79       254\n",
      "\n",
      "    accuracy                           0.78       514\n",
      "   macro avg       0.78      0.78      0.78       514\n",
      "weighted avg       0.78      0.78      0.78       514\n",
      "\n"
     ]
    }
   ],
   "source": [
    "print(\"Random Forest Classification\")\n",
    "print(classification_report(y_pred_rf, y_valid))"
   ]
  },
  {
   "cell_type": "markdown",
   "id": "domestic-homework",
   "metadata": {},
   "source": [
    "Using Random Forests Classification, the precisions were similar for the home team winning (target of 1) versus when the away team wins (target of 0) but the recalls were a bit more different. As a bettor, I would be a bit more comfortable when the model predicts an away team winning as opposed to the home team according to the precisions."
   ]
  },
  {
   "cell_type": "markdown",
   "id": "enormous-client",
   "metadata": {},
   "source": [
    "However, recall is a bit more varied, where the model has a better chance of \"plucking\" out predictions that the home team would win out of all the actual times the home team won as opposed to the away team. "
   ]
  },
  {
   "cell_type": "markdown",
   "id": "restricted-implement",
   "metadata": {},
   "source": [
    "### Analysis of Metrics of the Two Models"
   ]
  },
  {
   "cell_type": "markdown",
   "id": "deluxe-mexican",
   "metadata": {},
   "source": [
    "Accuracy score was used as the first metric to compare the Logistic Regression and Random Forests results. Based on just accuracy, the logistic regression model performed the best. However, accuracy is flawed since it won't go into detail about how well the model is predicting a home team winning as opposed to an away team (precision of each) or the fact that out of all the home teams that lost, how many did the model predict and vice versa (recall of each). As an interpreter of the model, I want to know where the model performed well and where it performed poorly in more detail, which is why next, I will look at precision and recall between the two models"
   ]
  },
  {
   "cell_type": "markdown",
   "id": "radical-florist",
   "metadata": {},
   "source": [
    "When looking at precision and recall, we can see that logistic regression overall performs better. However, we need to understand exactly in one what way it is performing better. It performs better in every way in precision and recall (for the predictions of the away team winning and the home team winning). In our case however, the customers of the model will be the business of the Vegas organization creating bets, and so it is best to use precision since this business wants to focus on how well the model predicts each future outcome based on a model result. This is why logistic regression will be used since the precision of the away team winning is 86% as opposed to 82% in the random forest classifier and for the home team winning, its 80% as opposed to 74%. "
   ]
  },
  {
   "cell_type": "markdown",
   "id": "simple-stable",
   "metadata": {},
   "source": [
    "### Pick the Logistic Regression Model"
   ]
  },
  {
   "cell_type": "markdown",
   "id": "lonely-block",
   "metadata": {},
   "source": [
    "If the model predicts that the away team will win, Vegas would be 87% confident that its correct, or if the model predicts that the home team would win, Vegas should be about 82% confident that it is correct. In this sense, this Vegas betting organization should come up with betting odds accordingly for who would win the game so that they can maximize their profit based on the confidence given by the model. "
   ]
  },
  {
   "cell_type": "markdown",
   "id": "hispanic-brand",
   "metadata": {},
   "source": [
    "***It will be up to Vegas to figure out the best odds based on the model results. There is a fine line between Vegas trying to get as much money as possible for each bet while also enticing people to take the bets***"
   ]
  },
  {
   "cell_type": "markdown",
   "id": "differential-average",
   "metadata": {},
   "source": [
    "## Inference"
   ]
  },
  {
   "cell_type": "code",
   "execution_count": 19,
   "id": "understood-certificate",
   "metadata": {},
   "outputs": [
    {
     "data": {
      "text/plain": [
       "Pipeline(steps=[('scaler', StandardScaler()),\n",
       "                ('imputer',\n",
       "                 SimpleImputer(add_indicator=True, strategy='median')),\n",
       "                ('preprocessing', QuantileTransformer()),\n",
       "                ('logreg',\n",
       "                 LogisticRegression(C=2.78, class_weight='balanced',\n",
       "                                    solver='liblinear'))])"
      ]
     },
     "execution_count": 19,
     "metadata": {},
     "output_type": "execute_result"
    }
   ],
   "source": [
    "pipe.fit(X, y)"
   ]
  },
  {
   "cell_type": "code",
   "execution_count": 20,
   "id": "valued-paraguay",
   "metadata": {},
   "outputs": [],
   "source": [
    "# Bring in the dataframe of average stats for the home team and away team\n",
    "def inference(home_team_df, away_team_df, teams): \n",
    "    dataframe = {\n",
    "        'HOME_TEAM_ID': [teams[0]], \n",
    "        'VISITOR_TEAM_ID': [teams[1]], \n",
    "        'SEASON': [2020], \n",
    "        'FG_PCT_home': [home_team_df['FG_PCT_home']], \n",
    "        'FT_PCT_home': [home_team_df['FT_PCT_home']], \n",
    "        \"FG3_PCT_home\": [home_team_df['FG3_PCT_home']], \n",
    "        \"AST_home\": [home_team_df['AST_home']], \n",
    "        \"REB_home\": [home_team_df['REB_home']], \n",
    "        \"FG_PCT_away\": [away_team_df['FG_PCT_away']], \n",
    "        \"FT_PCT_away\": [away_team_df['FT_PCT_away']], \n",
    "        \"FG3_PCT_away\": [away_team_df['FG3_PCT_away']],\n",
    "        'AST_away': [away_team_df['AST_away']],\n",
    "        'REB_away': [away_team_df['REB_away']]\n",
    "    }\n",
    "    return pd.DataFrame(dataframe)\n",
    "home_team = 'Lakers'\n",
    "away_team = 'Clippers'\n",
    "\n",
    "# get team IDS for the home and away team\n",
    "teams = [nba_data.set_index(\"HOME_TEAM\").loc[home_team].iloc[0]['HOME_TEAM_ID'], \n",
    "         nba_data.set_index(\"VISITOR_TEAM\").loc[away_team].iloc[0]['VISITOR_TEAM_ID']]\n",
    "inference_df = inference(result_home.loc[home_team], result_visitor.loc[away_team], teams)"
   ]
  },
  {
   "cell_type": "code",
   "execution_count": 21,
   "id": "silent-check",
   "metadata": {},
   "outputs": [
    {
     "data": {
      "text/plain": [
       "array([0])"
      ]
     },
     "execution_count": 21,
     "metadata": {},
     "output_type": "execute_result"
    }
   ],
   "source": [
    "prediction = pipe.predict(inference_df)\n",
    "prediction"
   ]
  },
  {
   "cell_type": "markdown",
   "id": "persistent-shoot",
   "metadata": {},
   "source": [
    "Therefore, with our model, the clippers would be predicted to win the away game against the lakers for that season. We can do this for any home and away team to predict who would win a corresponding game in the 2020 season in the logistic regression model. "
   ]
  },
  {
   "cell_type": "markdown",
   "id": "killing-halloween",
   "metadata": {},
   "source": [
    "Overall Vegas should be about 87% confident about these results and create their betting odds accordingly. "
   ]
  },
  {
   "cell_type": "markdown",
   "id": "fossil-layer",
   "metadata": {},
   "source": [
    "## Next Steps"
   ]
  },
  {
   "cell_type": "markdown",
   "id": "linear-spokesman",
   "metadata": {},
   "source": [
    "1) Create different models for each respective team so each team gets a confidence index (from precision) so that Vegas can create odds based on how confident a model is for each respective team. \n",
    "\n",
    "2) Have the labels be point differential instead of just wins and losses (so make it a regression problem), but requires more detailed data extraction to find point differentials of previous games\n",
    "\n",
    "3) Have a model that incorporates multiple sports (different ways for Vegas to make money)"
   ]
  }
 ],
 "metadata": {
  "kernelspec": {
   "display_name": "Python 3",
   "language": "python",
   "name": "python3"
  },
  "language_info": {
   "codemirror_mode": {
    "name": "ipython",
    "version": 3
   },
   "file_extension": ".py",
   "mimetype": "text/x-python",
   "name": "python",
   "nbconvert_exporter": "python",
   "pygments_lexer": "ipython3",
   "version": "3.8.5"
  }
 },
 "nbformat": 4,
 "nbformat_minor": 5
}
